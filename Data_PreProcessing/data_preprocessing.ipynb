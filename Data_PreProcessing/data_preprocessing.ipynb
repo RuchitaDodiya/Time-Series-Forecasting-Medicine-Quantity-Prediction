{
 "cells": [
  {
   "cell_type": "code",
   "execution_count": 14,
   "metadata": {},
   "outputs": [
    {
     "name": "stdout",
     "output_type": "stream",
     "text": [
      "Index(['Vetcove ID', 'Date', 'Hospital', 'Name', 'Order #', 'PO Number',\n",
      "       'Supplier', 'Manufacturer', 'Manufacturer Number', 'Primary Category',\n",
      "       'Secondary Category', 'Vetcove Item ID', 'Cost per Dose', 'Units',\n",
      "       'Unit Price', 'Unit Measurement', 'List Price', 'Quantity',\n",
      "       'Total Price', 'Item Status', 'Supplier's SKU'],\n",
      "      dtype='object')\n"
     ]
    }
   ],
   "source": [
    "import pandas as pd\n",
    "csvFile= pd.read_csv('/home/sanatan-7/Softmaxai/Clinic C Test Data-20230816T102324Z-001/Clinic C Test Data/Clinic C Test Data Historical Purchase 2yr.csv')\n",
    "\n",
    "print(csvFile.columns)"
   ]
  },
  {
   "cell_type": "code",
   "execution_count": 15,
   "metadata": {},
   "outputs": [],
   "source": [
    "csvFile['Date'] = pd.to_datetime(csvFile['Date'])  # Convert 'Date' column to datetime if needed\n",
    "df = csvFile.sort_values(by='Date')"
   ]
  },
  {
   "cell_type": "code",
   "execution_count": 16,
   "metadata": {},
   "outputs": [],
   "source": [
    "df = df.dropna()"
   ]
  },
  {
   "cell_type": "code",
   "execution_count": 17,
   "metadata": {},
   "outputs": [
    {
     "name": "stdout",
     "output_type": "stream",
     "text": [
      "Name\n",
      "VetriJec Soft Pack Luer Lock Syringe with Tri-Beveled Needle: Grey, 3cc, 22g x 0.75\", 100 Count    63\n",
      "Apoquel Tablets: 16mg, 250 Count                                                                   58\n",
      "Vetsulin: U-40, 10ml                                                                               55\n",
      "Aurocin Ear Cleanser with Aloe (Cucumber Melon Scent): 8oz                                         48\n",
      "Novox Caplets: 100mg, 180 Count                                                                    46\n",
      "Gabapentin Capsules: 100mg, 500 Count                                                              45\n",
      "TruCan BAPi (IN): 25 Doses                                                                         44\n",
      "IDEXX Specimen Bag (Plastic): Each                                                                 43\n",
      "Avant Non-Woven Sponge: 4-Ply, 3\" x 3\", 200 Count                                                  43\n",
      "Fecal Specimen Collection Container: 30mL                                                          41\n",
      "OneCRYL Suture: 2-0, FS-1, 36\", 12 Count                                                           41\n",
      "Needle: 22ga x 0.75\", 100 Count                                                                    41\n",
      "Eicosa3FF® SnipCaps: Large, 60 Count                                                               41\n",
      "MiconaHex + Triz Wipes: 50 Count                                                                   39\n",
      "Novox Caplets: 25mg, 180 Count                                                                     39\n",
      "Top Tube: White, 6 mL, Plastic, No Additive                                                        37\n",
      "TruCan DAPPi+L4: 25 Doses                                                                          37\n",
      "SNAP Heartworm RT Test: 30 Count                                                                   35\n",
      "Clindamycin HCl Capsules: 150mg, 100 Count                                                         35\n",
      "Elizabethan VETVIEW Padded Collar: 10cm (3.9\")                                                     35\n",
      "Catalyst Lyte 4 Clip: 12 Count                                                                     35\n",
      "OneCRYL Suture: 3-0, FS-2, 36\", 12 Count                                                           33\n",
      "MiconaHex + Triz Spray: 8oz                                                                        31\n",
      "Proin Chewable Tablets: 75mg, 60 Count                                                             31\n",
      "Normsol R Injection 7.4pH: 1 Liter, 12 Count                                                       31\n",
      "Eicosa3FF® SnipCaps:  Small, 60 Count                                                              31\n",
      "UltiGuard Safe Pack: 0.3ml, U-40, 29G x 0.5\", 100 Count                                            30\n",
      "EnteDerm Ointment: 15ml                                                                            29\n",
      "Novox Caplets: 75mg, 180 Count                                                                     29\n",
      "Catalyst Chem 17 Clip: 12 Count                                                                    29\n",
      "Methimazole Tablets: 5mg, 100 Count                                                                28\n",
      "Selarid  for Cats:  Blue (5 - 15lbs), 6 Doses                                                      28\n",
      "Dexmedesed® (dexmedetomidine hydrochloride) Sterile Injectable Solution: 10ml (0.5mg/ml)           27\n",
      "Gabapentin Capsules: 300mg, 500 Count                                                              27\n",
      "Lavender-Top Tube (LTT) 2 mL, EDTA                                                                 27\n",
      "Vetmedin® Chewable Tablets: 1.25mg, 50 Count                                                       26\n",
      "MiconaHex + Triz Shampoo: 8oz                                                                      26\n",
      "IV Administration Set: 15 DPM with Injection Site, Rotating Luer, 80\"                              25\n",
      "Flexadin Advanced Chews: 60 Count                                                                  25\n",
      "Name: count, dtype: int64\n",
      "39\n"
     ]
    }
   ],
   "source": [
    "unique_medicine = df['Name'].value_counts()\n",
    "unique_medicine = unique_medicine[unique_medicine >= 25]\n",
    "\n",
    "print(unique_medicine)\n",
    "print(len(unique_medicine))"
   ]
  },
  {
   "cell_type": "code",
   "execution_count": 18,
   "metadata": {},
   "outputs": [
    {
     "name": "stdout",
     "output_type": "stream",
     "text": [
      "      Vetcove ID       Date  Hospital  \\\n",
      "30     150811546 2021-08-18  Clinic C   \n",
      "2846   150811498 2021-08-24  Clinic C   \n",
      "86     152189757 2021-09-21  Clinic C   \n",
      "2911   155238037 2021-10-05  Clinic C   \n",
      "136    157423496 2021-10-15  Clinic C   \n",
      "...          ...        ...       ...   \n",
      "2743   280973531 2023-06-26  Clinic C   \n",
      "1392   282162442 2023-06-30  Clinic C   \n",
      "1415   284723874 2023-07-13  Clinic C   \n",
      "4253   288120976 2023-07-27  Clinic C   \n",
      "4410   289532369 2023-08-03  Clinic C   \n",
      "\n",
      "                                                   Name   Order #  \\\n",
      "30    VetriJec Soft Pack Luer Lock Syringe with Tri-...  40269473   \n",
      "2846  VetriJec Soft Pack Luer Lock Syringe with Tri-...  40375171   \n",
      "86    VetriJec Soft Pack Luer Lock Syringe with Tri-...  40871574   \n",
      "2911  VetriJec Soft Pack Luer Lock Syringe with Tri-...  41135539   \n",
      "136   VetriJec Soft Pack Luer Lock Syringe with Tri-...  41312652   \n",
      "...                                                 ...       ...   \n",
      "2743  VetriJec Soft Pack Luer Lock Syringe with Tri-...  51529803   \n",
      "1392  VetriJec Soft Pack Luer Lock Syringe with Tri-...  51630291   \n",
      "1415  VetriJec Soft Pack Luer Lock Syringe with Tri-...  51817775   \n",
      "4253  VetriJec Soft Pack Luer Lock Syringe with Tri-...  52038471   \n",
      "4410  VetriJec Soft Pack Luer Lock Syringe with Tri-...  52148279   \n",
      "\n",
      "        PO Number Supplier Manufacturer Manufacturer Number  \\\n",
      "30    2.02108E+13      MWI       VetOne             9284-18   \n",
      "2846  2.02108E+13      MWI       VetOne             9284-18   \n",
      "86    2.02109E+13      MWI       VetOne             9284-18   \n",
      "2911     VC04SV87      MWI       VetOne             9284-18   \n",
      "136      VC04W9ZS      MWI       VetOne             9284-18   \n",
      "...           ...      ...          ...                 ...   \n",
      "2743     VC0BR8QP      MWI       VetOne             9284-18   \n",
      "1392     VC0BUZ25      MWI       VetOne             9284-18   \n",
      "1415     VC0CZ9HC      MWI       VetOne             9284-18   \n",
      "4253     VC0C6A4G      MWI       VetOne             9284-18   \n",
      "4410     VC0C94XA      MWI       VetOne             9284-18   \n",
      "\n",
      "                    Primary Category  ... Vetcove Item ID  Cost per Dose  \\\n",
      "30    Administration and Transfusion  ...        289091.0         0.0537   \n",
      "2846  Administration and Transfusion  ...        289091.0         0.0537   \n",
      "86    Administration and Transfusion  ...        289091.0         0.0537   \n",
      "2911  Administration and Transfusion  ...        289091.0         0.0537   \n",
      "136   Administration and Transfusion  ...        289091.0         0.0537   \n",
      "...                              ...  ...             ...            ...   \n",
      "2743  Administration and Transfusion  ...        289091.0         0.0570   \n",
      "1392  Administration and Transfusion  ...        289091.0         0.0571   \n",
      "1415  Administration and Transfusion  ...        289091.0         0.0571   \n",
      "4253  Administration and Transfusion  ...        289091.0         0.0572   \n",
      "4410  Administration and Transfusion  ...        289091.0         0.0572   \n",
      "\n",
      "      Units  Unit Price  Unit Measurement List Price  Quantity  Total Price  \\\n",
      "30    100.0           0            needle          0       3.0            0   \n",
      "2846  100.0           0            needle          0       3.0            0   \n",
      "86    100.0           0            needle          0       2.0            0   \n",
      "2911  100.0           0            needle          0       2.0            0   \n",
      "136   100.0           0            needle          0       3.0            0   \n",
      "...     ...         ...               ...        ...       ...          ...   \n",
      "2743  100.0           0            needle          0       2.0            0   \n",
      "1392  100.0           0            needle          0       3.0            0   \n",
      "1415  100.0           0            needle          0       3.0            0   \n",
      "4253  100.0           0            needle          0       2.0            0   \n",
      "4410  100.0           0            needle          0       4.0            0   \n",
      "\n",
      "      Item Status Supplier's SKU  \n",
      "30      completed         670051  \n",
      "2846    completed         670051  \n",
      "86      completed         670051  \n",
      "2911    completed         670051  \n",
      "136     completed         670051  \n",
      "...           ...            ...  \n",
      "2743    completed         670051  \n",
      "1392    completed         670051  \n",
      "1415    completed         670051  \n",
      "4253    completed         670051  \n",
      "4410    completed         670051  \n",
      "\n",
      "[63 rows x 21 columns]\n"
     ]
    }
   ],
   "source": [
    "medicine_1 = df[df['Name'] == 'VetriJec Soft Pack Luer Lock Syringe with Tri-Beveled Needle: Grey, 3cc, 22g x 0.75\", 100 Count']\n",
    "print(medicine_1)"
   ]
  },
  {
   "cell_type": "code",
   "execution_count": 19,
   "metadata": {},
   "outputs": [
    {
     "name": "stdout",
     "output_type": "stream",
     "text": [
      "      Vetcove ID       Date  Hospital  Name  Order #  PO Number  Supplier  \\\n",
      "30     150811546 2021-08-18         0     0        0          0         0   \n",
      "2846   150811498 2021-08-24         0     0        1          0         0   \n",
      "86     152189757 2021-09-21         0     0        2          1         0   \n",
      "2911   155238037 2021-10-05         0     0        3          3         0   \n",
      "136    157423496 2021-10-15         0     0        4          4         0   \n",
      "...          ...        ...       ...   ...      ...        ...       ...   \n",
      "2743   280973531 2023-06-26         0     0       56         55         0   \n",
      "1392   282162442 2023-06-30         0     0       57         56         0   \n",
      "1415   284723874 2023-07-13         0     0       58         59         0   \n",
      "4253   288120976 2023-07-27         0     0       59         57         0   \n",
      "4410   289532369 2023-08-03         0     0       60         58         0   \n",
      "\n",
      "      Manufacturer  Manufacturer Number  Primary Category  ...  \\\n",
      "30               0                    0                 0  ...   \n",
      "2846             0                    0                 0  ...   \n",
      "86               0                    0                 0  ...   \n",
      "2911             0                    0                 0  ...   \n",
      "136              0                    0                 0  ...   \n",
      "...            ...                  ...               ...  ...   \n",
      "2743             0                    0                 0  ...   \n",
      "1392             0                    0                 0  ...   \n",
      "1415             0                    0                 0  ...   \n",
      "4253             0                    0                 0  ...   \n",
      "4410             0                    0                 0  ...   \n",
      "\n",
      "      Vetcove Item ID  Cost per Dose  Units  Unit Price  Unit Measurement  \\\n",
      "30           289091.0         0.0537  100.0           0                 0   \n",
      "2846         289091.0         0.0537  100.0           0                 0   \n",
      "86           289091.0         0.0537  100.0           0                 0   \n",
      "2911         289091.0         0.0537  100.0           0                 0   \n",
      "136          289091.0         0.0537  100.0           0                 0   \n",
      "...               ...            ...    ...         ...               ...   \n",
      "2743         289091.0         0.0570  100.0           0                 0   \n",
      "1392         289091.0         0.0571  100.0           0                 0   \n",
      "1415         289091.0         0.0571  100.0           0                 0   \n",
      "4253         289091.0         0.0572  100.0           0                 0   \n",
      "4410         289091.0         0.0572  100.0           0                 0   \n",
      "\n",
      "      List Price  Quantity  Total Price  Item Status  Supplier's SKU  \n",
      "30             0       3.0            0            0               0  \n",
      "2846           0       3.0            0            0               0  \n",
      "86             0       2.0            0            0               0  \n",
      "2911           0       2.0            0            0               0  \n",
      "136            0       3.0            0            0               0  \n",
      "...          ...       ...          ...          ...             ...  \n",
      "2743           0       2.0            0            0               0  \n",
      "1392           0       3.0            0            0               0  \n",
      "1415           0       3.0            0            0               0  \n",
      "4253           0       2.0            0            0               0  \n",
      "4410           0       4.0            0            0               0  \n",
      "\n",
      "[63 rows x 21 columns]\n"
     ]
    },
    {
     "name": "stderr",
     "output_type": "stream",
     "text": [
      "/tmp/ipykernel_40793/4167655737.py:9: SettingWithCopyWarning: \n",
      "A value is trying to be set on a copy of a slice from a DataFrame.\n",
      "Try using .loc[row_indexer,col_indexer] = value instead\n",
      "\n",
      "See the caveats in the documentation: https://pandas.pydata.org/pandas-docs/stable/user_guide/indexing.html#returning-a-view-versus-a-copy\n",
      "  medicine_1[column] = label_encoder.fit_transform(medicine_1[column])\n",
      "/tmp/ipykernel_40793/4167655737.py:9: SettingWithCopyWarning: \n",
      "A value is trying to be set on a copy of a slice from a DataFrame.\n",
      "Try using .loc[row_indexer,col_indexer] = value instead\n",
      "\n",
      "See the caveats in the documentation: https://pandas.pydata.org/pandas-docs/stable/user_guide/indexing.html#returning-a-view-versus-a-copy\n",
      "  medicine_1[column] = label_encoder.fit_transform(medicine_1[column])\n",
      "/tmp/ipykernel_40793/4167655737.py:9: SettingWithCopyWarning: \n",
      "A value is trying to be set on a copy of a slice from a DataFrame.\n",
      "Try using .loc[row_indexer,col_indexer] = value instead\n",
      "\n",
      "See the caveats in the documentation: https://pandas.pydata.org/pandas-docs/stable/user_guide/indexing.html#returning-a-view-versus-a-copy\n",
      "  medicine_1[column] = label_encoder.fit_transform(medicine_1[column])\n",
      "/tmp/ipykernel_40793/4167655737.py:9: SettingWithCopyWarning: \n",
      "A value is trying to be set on a copy of a slice from a DataFrame.\n",
      "Try using .loc[row_indexer,col_indexer] = value instead\n",
      "\n",
      "See the caveats in the documentation: https://pandas.pydata.org/pandas-docs/stable/user_guide/indexing.html#returning-a-view-versus-a-copy\n",
      "  medicine_1[column] = label_encoder.fit_transform(medicine_1[column])\n",
      "/tmp/ipykernel_40793/4167655737.py:9: SettingWithCopyWarning: \n",
      "A value is trying to be set on a copy of a slice from a DataFrame.\n",
      "Try using .loc[row_indexer,col_indexer] = value instead\n",
      "\n",
      "See the caveats in the documentation: https://pandas.pydata.org/pandas-docs/stable/user_guide/indexing.html#returning-a-view-versus-a-copy\n",
      "  medicine_1[column] = label_encoder.fit_transform(medicine_1[column])\n",
      "/tmp/ipykernel_40793/4167655737.py:9: SettingWithCopyWarning: \n",
      "A value is trying to be set on a copy of a slice from a DataFrame.\n",
      "Try using .loc[row_indexer,col_indexer] = value instead\n",
      "\n",
      "See the caveats in the documentation: https://pandas.pydata.org/pandas-docs/stable/user_guide/indexing.html#returning-a-view-versus-a-copy\n",
      "  medicine_1[column] = label_encoder.fit_transform(medicine_1[column])\n",
      "/tmp/ipykernel_40793/4167655737.py:9: SettingWithCopyWarning: \n",
      "A value is trying to be set on a copy of a slice from a DataFrame.\n",
      "Try using .loc[row_indexer,col_indexer] = value instead\n",
      "\n",
      "See the caveats in the documentation: https://pandas.pydata.org/pandas-docs/stable/user_guide/indexing.html#returning-a-view-versus-a-copy\n",
      "  medicine_1[column] = label_encoder.fit_transform(medicine_1[column])\n",
      "/tmp/ipykernel_40793/4167655737.py:9: SettingWithCopyWarning: \n",
      "A value is trying to be set on a copy of a slice from a DataFrame.\n",
      "Try using .loc[row_indexer,col_indexer] = value instead\n",
      "\n",
      "See the caveats in the documentation: https://pandas.pydata.org/pandas-docs/stable/user_guide/indexing.html#returning-a-view-versus-a-copy\n",
      "  medicine_1[column] = label_encoder.fit_transform(medicine_1[column])\n",
      "/tmp/ipykernel_40793/4167655737.py:9: SettingWithCopyWarning: \n",
      "A value is trying to be set on a copy of a slice from a DataFrame.\n",
      "Try using .loc[row_indexer,col_indexer] = value instead\n",
      "\n",
      "See the caveats in the documentation: https://pandas.pydata.org/pandas-docs/stable/user_guide/indexing.html#returning-a-view-versus-a-copy\n",
      "  medicine_1[column] = label_encoder.fit_transform(medicine_1[column])\n",
      "/tmp/ipykernel_40793/4167655737.py:9: SettingWithCopyWarning: \n",
      "A value is trying to be set on a copy of a slice from a DataFrame.\n",
      "Try using .loc[row_indexer,col_indexer] = value instead\n",
      "\n",
      "See the caveats in the documentation: https://pandas.pydata.org/pandas-docs/stable/user_guide/indexing.html#returning-a-view-versus-a-copy\n",
      "  medicine_1[column] = label_encoder.fit_transform(medicine_1[column])\n",
      "/tmp/ipykernel_40793/4167655737.py:9: SettingWithCopyWarning: \n",
      "A value is trying to be set on a copy of a slice from a DataFrame.\n",
      "Try using .loc[row_indexer,col_indexer] = value instead\n",
      "\n",
      "See the caveats in the documentation: https://pandas.pydata.org/pandas-docs/stable/user_guide/indexing.html#returning-a-view-versus-a-copy\n",
      "  medicine_1[column] = label_encoder.fit_transform(medicine_1[column])\n",
      "/tmp/ipykernel_40793/4167655737.py:9: SettingWithCopyWarning: \n",
      "A value is trying to be set on a copy of a slice from a DataFrame.\n",
      "Try using .loc[row_indexer,col_indexer] = value instead\n",
      "\n",
      "See the caveats in the documentation: https://pandas.pydata.org/pandas-docs/stable/user_guide/indexing.html#returning-a-view-versus-a-copy\n",
      "  medicine_1[column] = label_encoder.fit_transform(medicine_1[column])\n"
     ]
    }
   ],
   "source": [
    "from sklearn.preprocessing import LabelEncoder\n",
    "# Create a label encoder object\n",
    "label_encoder = LabelEncoder()\n",
    "\n",
    "# Iterate through columns and apply label encoding to non-numeric columns\n",
    "for column in medicine_1.columns:\n",
    "    if column != 'Date':\n",
    "        if medicine_1[column].dtype == 'object' or medicine_1[column].dtype.name == 'category':\n",
    "            medicine_1[column] = label_encoder.fit_transform(medicine_1[column])\n",
    "\n",
    "# Display the modified DataFrame\n",
    "print(medicine_1)"
   ]
  },
  {
   "cell_type": "code",
   "execution_count": 20,
   "metadata": {},
   "outputs": [
    {
     "name": "stdout",
     "output_type": "stream",
     "text": [
      "Vetcove ID            -0.084419\n",
      "Date                  -0.087945\n",
      "Hospital                    NaN\n",
      "Name                        NaN\n",
      "Order #               -0.089310\n",
      "PO Number             -0.011451\n",
      "Supplier                    NaN\n",
      "Manufacturer                NaN\n",
      "Manufacturer Number         NaN\n",
      "Primary Category            NaN\n",
      "Secondary Category          NaN\n",
      "Vetcove Item ID             NaN\n",
      "Cost per Dose         -0.101695\n",
      "Units                       NaN\n",
      "Unit Price                  NaN\n",
      "Unit Measurement            NaN\n",
      "List Price                  NaN\n",
      "Quantity               1.000000\n",
      "Total Price                 NaN\n",
      "Item Status           -0.275876\n",
      "Supplier's SKU              NaN\n",
      "Name: Quantity, dtype: float64\n"
     ]
    }
   ],
   "source": [
    "target_feature = 'Quantity'\n",
    "\n",
    "# Calculate the correlation matrix\n",
    "correlation_matrix = medicine_1.corr()\n",
    "\n",
    "# Extract the correlations of the target feature with other features\n",
    "correlation_with_target = correlation_matrix[target_feature]\n",
    "\n",
    "# Display the correlations\n",
    "print(correlation_with_target)"
   ]
  },
  {
   "cell_type": "code",
   "execution_count": 21,
   "metadata": {},
   "outputs": [
    {
     "name": "stdout",
     "output_type": "stream",
     "text": [
      "            Quantity\n",
      "Date                \n",
      "2021-08-18       3.0\n",
      "2021-08-24       3.0\n",
      "2021-09-21       2.0\n",
      "2021-10-05       2.0\n",
      "2021-10-15       3.0\n"
     ]
    },
    {
     "name": "stderr",
     "output_type": "stream",
     "text": [
      "/tmp/ipykernel_40793/3279079137.py:3: SettingWithCopyWarning: \n",
      "A value is trying to be set on a copy of a slice from a DataFrame.\n",
      "Try using .loc[row_indexer,col_indexer] = value instead\n",
      "\n",
      "See the caveats in the documentation: https://pandas.pydata.org/pandas-docs/stable/user_guide/indexing.html#returning-a-view-versus-a-copy\n",
      "  final_medicine_1['Date']=pd.to_datetime(final_medicine_1['Date'])\n"
     ]
    }
   ],
   "source": [
    "selected_columns = ['Date','Quantity']\n",
    "final_medicine_1 = medicine_1[selected_columns]\n",
    "final_medicine_1['Date']=pd.to_datetime(final_medicine_1['Date'])\n",
    "final_medicine_1.set_index('Date', inplace=True)\n",
    "print(final_medicine_1.head())"
   ]
  },
  {
   "cell_type": "code",
   "execution_count": 22,
   "metadata": {},
   "outputs": [
    {
     "name": "stdout",
     "output_type": "stream",
     "text": [
      "            Quantity\n",
      "Date                \n",
      "2021-08-22       3.0\n",
      "2021-08-29       3.0\n",
      "2021-09-05       0.0\n",
      "2021-09-12       0.0\n",
      "2021-09-19       0.0\n",
      "...              ...\n",
      "2023-07-09       0.0\n",
      "2023-07-16       3.0\n",
      "2023-07-23       0.0\n",
      "2023-07-30       2.0\n",
      "2023-08-06       4.0\n",
      "\n",
      "[103 rows x 1 columns]\n"
     ]
    }
   ],
   "source": [
    "df_weekly = final_medicine_1.resample('W').sum()\n",
    "print(df_weekly)"
   ]
  },
  {
   "cell_type": "code",
   "execution_count": 23,
   "metadata": {},
   "outputs": [
    {
     "name": "stdout",
     "output_type": "stream",
     "text": [
      "Data is stationary\n"
     ]
    }
   ],
   "source": [
    "from statsmodels.tsa.stattools import adfuller\n",
    "\n",
    "result = adfuller(df_weekly['Quantity'])\n",
    "p_value = result[1]\n",
    "\n",
    "if p_value <= 0.05:\n",
    "    print(\"Data is not stationary\")\n",
    "else:\n",
    "    print(\"Data is stationary\")"
   ]
  },
  {
   "cell_type": "code",
   "execution_count": 24,
   "metadata": {},
   "outputs": [
    {
     "data": {
      "text/plain": [
       "<Axes: xlabel='Date'>"
      ]
     },
     "execution_count": 24,
     "metadata": {},
     "output_type": "execute_result"
    },
    {
     "data": {
      "image/png": "[encoded data removed]",
      "text/plain": [
       "<Figure size 640x480 with 1 Axes>"
      ]
     },
     "metadata": {},
     "output_type": "display_data"
    }
   ],
   "source": [
    "df_weekly.plot()"
   ]
  },
  {
   "cell_type": "code",
   "execution_count": 25,
   "metadata": {},
   "outputs": [
    {
     "ename": "SyntaxError",
     "evalue": "invalid decimal literal (2211359700.py, line 2)",
     "output_type": "error",
     "traceback": [
      "\u001b[0;36m  Cell \u001b[0;32mIn[25], line 2\u001b[0;36m\u001b[0m\n\u001b[0;31m    train_size = int(0Lock.8 * len(df_weekly))\u001b[0m\n\u001b[0m                     ^\u001b[0m\n\u001b[0;31mSyntaxError\u001b[0m\u001b[0;31m:\u001b[0m invalid decimal literal\n"
     ]
    }
   ],
   "source": [
    "# Split the data into training and test sets (80% train, 20% test)\n",
    "train_size = int(0Lock.8 * len(df_weekly))\n",
    "train_data, test_data = df_weekly.iloc[:train_size], df_weekly.iloc[train_size:]"
   ]
  }
 ],
 "metadata": {
  "kernelspec": {
   "display_name": "Python 3",
   "language": "python",
   "name": "python3"
  },
  "language_info": {
   "codemirror_mode": {
    "name": "ipython",
    "version": 3
   },
   "file_extension": ".py",
   "mimetype": "text/x-python",
   "name": "python",
   "nbconvert_exporter": "python",
   "pygments_lexer": "ipython3",
   "version": "3.10.12"
  },
  "orig_nbformat": 4
 },
 "nbformat": 4,
 "nbformat_minor": 2
}
