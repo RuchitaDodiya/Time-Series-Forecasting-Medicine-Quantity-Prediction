{
 "cells": [
  {
   "cell_type": "code",
   "execution_count": null,
   "metadata": {},
   "outputs": [],
   "source": [
    "import matplotlib.pyplot as plt\n",
    "from statsmodels.tsa.ar_model import AutoReg\n",
    "from sklearn.metrics import mean_squared_error\n",
    "\n",
    "\n",
    "# Fit AR model\n",
    "lags = 5  # Number of lagged observations to include\n",
    "model = AutoReg(train_data[\"Quantity\"], lags=lags)\n",
    "model_fit = model.fit()\n",
    "\n",
    "# Forecast the next steps\n",
    "forecast_steps = len(test_data)\n",
    "forecast = model_fit.predict(start=len(train_data), end=len(train_data) + forecast_steps - 1)\n",
    "\n",
    "# Calculate Mean Squared Error (MSE)\n",
    "mse = mean_squared_error(test_data[\"Quantity\"], forecast)\n",
    "print(f\"Mean Squared Error (MSE): {mse}\")\n",
    "\n",
    "# Plot the original data and the forecast\n",
    "plt.plot(test_data.index, test_data[\"Quantity\"], label=\"Actual\")\n",
    "plt.plot(test_data.index, forecast, color='red', label=\"Forecast\")\n",
    "plt.legend()\n",
    "plt.xlabel(\"Date\")\n",
    "plt.ylabel(\"Quantity\")\n",
    "plt.title(\"AutoRegressive (AR) Forecasting\")\n",
    "plt.xticks(rotation=45)\n",
    "plt.tight_layout()\n",
    "plt.show()"
   ]
  }
 ],
 "metadata": {
  "language_info": {
   "name": "python"
  },
  "orig_nbformat": 4
 },
 "nbformat": 4,
 "nbformat_minor": 2
}
