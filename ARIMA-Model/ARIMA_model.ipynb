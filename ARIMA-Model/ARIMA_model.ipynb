{
 "cells": [
  {
   "cell_type": "code",
   "execution_count": null,
   "metadata": {},
   "outputs": [],
   "source": [
    "import matplotlib.pyplot as plt\n",
    "from statsmodels.tsa.arima.model import ARIMA\n",
    "from sklearn.metrics import mean_squared_error\n",
    "\n",
    "\n",
    "\n",
    "# Fit ARIMA model\n",
    "order = (5, 0, 0) \n",
    "model = ARIMA(train_data[\"Quantity\"], order=order)\n",
    "model_fit = model.fit()\n",
    "\n",
    "# Forecast the next steps\n",
    "forecast_steps = len(test_data)\n",
    "forecast = model_fit.forecast(steps=forecast_steps)\n",
    "\n",
    "# Calculate Mean Squared Error (MSE)\n",
    "mse = mean_squared_error(test_data[\"Quantity\"], forecast)\n",
    "print(f\"Mean Squared Error (MSE): {mse}\")\n",
    "\n",
    "# Plot the original data and the forecast\n",
    "plt.plot(test_data.index, test_data[\"Quantity\"], label=\"Actual\")\n",
    "plt.plot(test_data.index, forecast, color='red', label=\"Forecast\")\n",
    "plt.legend()\n",
    "plt.xlabel(\"Date\")\n",
    "plt.ylabel(\"Quantity\")\n",
    "plt.title(\"ARIMA Forecasting\")\n",
    "plt.xticks(rotation=45)\n",
    "plt.tight_layout()\n",
    "plt.show()"
   ]
  }
 ],
 "metadata": {
  "language_info": {
   "name": "python"
  },
  "orig_nbformat": 4
 },
 "nbformat": 4,
 "nbformat_minor": 2
}
