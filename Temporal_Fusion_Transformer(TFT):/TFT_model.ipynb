{
 "cells": [
  {
   "cell_type": "code",
   "execution_count": null,
   "metadata": {},
   "outputs": [],
   "source": [
    "complete_date_range = pd.date_range(start=df_weekly.index.min(), end=df_weekly.index.max(), freq='D')"
   ]
  },
  {
   "cell_type": "code",
   "execution_count": null,
   "metadata": {},
   "outputs": [],
   "source": [
    "complete_df = pd.DataFrame(index=complete_date_range)\n",
    "# Merge the complete DataFrame with the original DataFrame\n",
    "merged_df = pd.merge(df_weekly, complete_df, left_index=True, right_index=True, how='right')\n",
    "merged_df['Quantity'] = merged_df['Quantity'].fillna(0)\n",
    "merged_df = merged_df.resample('W').sum()"
   ]
  },
  {
   "cell_type": "code",
   "execution_count": null,
   "metadata": {},
   "outputs": [],
   "source": [
    "df_reset = merged_df.reset_index()\n",
    "df_reset.rename(columns={'index': 'Date'}, inplace=True)\n",
    "df_reset"
   ]
  },
  {
   "cell_type": "code",
   "execution_count": null,
   "metadata": {},
   "outputs": [],
   "source": [
    "import numpy as np\n",
    "import pandas as pd\n",
    "#from tqdm import tqdm_notebook as tqdm\n",
    "\n",
    "import matplotlib.pyplot as plt\n",
    "\n",
    "from darts import TimeSeries\n",
    "from darts.dataprocessing.transformers import Scaler\n",
    "from darts.models import TFTModel\n",
    "import warnings\n",
    "from pytorch_lightning.callbacks.early_stopping import EarlyStopping\n",
    "from pytorch_lightning import Trainer\n",
    "from sklearn.metrics import mean_squared_error\n",
    "\n",
    "warnings.filterwarnings(\"ignore\")\n",
    "import logging\n",
    "\n",
    "logging.disable(logging.CRITICAL)"
   ]
  },
  {
   "cell_type": "code",
   "execution_count": null,
   "metadata": {},
   "outputs": [],
   "source": [
    "scaler = Scaler()\n",
    "series = scaler.fit_transform(\n",
    "\n",
    "       TimeSeries.from_dataframe(df_reset, 'Date', 'Quantity', freq='w')\n",
    "    \n",
    ").astype(np.float32)\n",
    "series.plot()"
   ]
  },
  {
   "cell_type": "code",
   "execution_count": null,
   "metadata": {},
   "outputs": [],
   "source": [
    "training_cutoff = int(len(series)*0.2)\n",
    "train,val = series[:-training_cutoff],series[-training_cutoff:]"
   ]
  },
  {
   "cell_type": "code",
   "execution_count": null,
   "metadata": {},
   "outputs": [],
   "source": [
    "input_chunk_length = 5\n",
    "forecast_horizon = 1\n",
    "model = TFTModel(\n",
    "    input_chunk_length=input_chunk_length,\n",
    "    output_chunk_length=forecast_horizon,\n",
    "    hidden_size=150,\n",
    "    lstm_layers=1,\n",
    "    num_attention_heads=4,\n",
    "    dropout=0.1,\n",
    "    batch_size=16,\n",
    "    # n_epochs=80,\n",
    "    nr_epochs_val_period = 10,\n",
    "    add_relative_index=True,\n",
    "    add_encoders=None,\n",
    "    random_state=42,\n",
    ")"
   ]
  },
  {
   "cell_type": "code",
   "execution_count": null,
   "metadata": {},
   "outputs": [],
   "source": [
    "early_stopping_callback = EarlyStopping(\n",
    "    monitor='val_loss',    \n",
    "    patience=10,            \n",
    "    min_delta=0.001,        \n",
    "    mode='min'              \n",
    ")"
   ]
  },
  {
   "cell_type": "code",
   "execution_count": null,
   "metadata": {},
   "outputs": [],
   "source": [
    "trainer_1 = Trainer(\n",
    "    max_epochs=200,         # Number of epochs\n",
    "    callbacks=[early_stopping_callback]  # Pass the EarlyStopping callback\n",
    ")"
   ]
  },
  {
   "cell_type": "code",
   "execution_count": null,
   "metadata": {},
   "outputs": [],
   "source": [
    "model.fit(train,val_series=val,trainer=trainer_1) #, future_covariates=covariates_transformed, verbose = True)"
   ]
  },
  {
   "cell_type": "code",
   "execution_count": null,
   "metadata": {},
   "outputs": [],
   "source": [
    "extra_data=model.predict(len(train))"
   ]
  },
  {
   "cell_type": "code",
   "execution_count": null,
   "metadata": {},
   "outputs": [],
   "source": [
    "output=model.predict(len(train)-5,train)"
   ]
  },
  {
   "cell_type": "code",
   "execution_count": null,
   "metadata": {},
   "outputs": [],
   "source": [
    "original_series = scaler.inverse_transform(train)\n",
    "original_series_output = scaler.inverse_transform(output)\n",
    "original_series.plot(label=\"Actual\")\n",
    "original_series_output.plot(label = \"Forecast\")"
   ]
  },
  {
   "cell_type": "code",
   "execution_count": null,
   "metadata": {},
   "outputs": [],
   "source": [
    "mse = mean_squared_error(pd.DataFrame(original_series.values())[5:], original_series_output.values())\n",
    "print(\"Mean Squared Error:\", mse)"
   ]
  }
 ],
 "metadata": {
  "language_info": {
   "name": "python"
  },
  "orig_nbformat": 4
 },
 "nbformat": 4,
 "nbformat_minor": 2
}
