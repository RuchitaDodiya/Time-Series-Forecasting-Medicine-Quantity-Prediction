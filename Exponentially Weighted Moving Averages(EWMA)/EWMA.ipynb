{
 "cells": [
  {
   "cell_type": "code",
   "execution_count": null,
   "metadata": {},
   "outputs": [],
   "source": [
    "import matplotlib.pyplot as plt\n",
    "\n",
    "window = 5  # Adjust the window size for SMA\n",
    "alpha = 0.9  # Adjust the alpha value for EMA\n",
    "\n",
    "ema = df_weekly['Quantity'].ewm(alpha=alpha, adjust=False).mean()\n",
    "\n",
    "# Print the original data, SMA, and EMA\n",
    "result = mean_squared_error(df_weekly,ema)\n",
    "i+=1\n",
    "data={'actual_value':df_weekly['Quantity'],'Predicted':ema}\n",
    "\n",
    "plt.figure(figsize=(10, 6))\n",
    "plt.plot(df_weekly.index, df_weekly[\"Quantity\"], label='Original Data')\n",
    "plt.plot(ema.index, ema, color='red', label='EMA')\n",
    "plt.legend()\n",
    "plt.xlabel('Date')\n",
    "plt.ylabel('Quantity')\n",
    "plt.title('Original Data and Exponential Moving Average (EMA)')\n",
    "plt.xticks(rotation=45)\n",
    "plt.tight_layout()\n",
    "plt.show()\n",
    "print(f\"Mean Squared Error: {mse:.2f}\")"
   ]
  }
 ],
 "metadata": {
  "language_info": {
   "name": "python"
  },
  "orig_nbformat": 4
 },
 "nbformat": 4,
 "nbformat_minor": 2
}
